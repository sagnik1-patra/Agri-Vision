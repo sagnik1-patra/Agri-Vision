{
 "cells": [
  {
   "cell_type": "code",
   "execution_count": 4,
   "id": "d0925955-27e5-4330-926e-4449940ed8d9",
   "metadata": {},
   "outputs": [],
   "source": [
    "from sklearn.compose import ColumnTransformer\n",
    "from sklearn.preprocessing import OneHotEncoder, StandardScaler\n",
    "\n",
    "def build_sklearn_pipeline(X: pd.DataFrame) -> Pipeline:\n",
    "    # split feature types\n",
    "    cat_cols = [c for c in X.columns if X[c].dtype.name in (\"object\",\"category\")]\n",
    "    num_cols = [c for c in X.columns if c not in cat_cols]\n",
    "\n",
    "    try:\n",
    "        # scikit-learn >= 1.4\n",
    "        ohe = OneHotEncoder(handle_unknown=\"ignore\", sparse_output=True)\n",
    "    except TypeError:\n",
    "        # scikit-learn <= 1.3\n",
    "        ohe = OneHotEncoder(handle_unknown=\"ignore\", sparse=True)\n",
    "\n",
    "    transformers = []\n",
    "    if num_cols:\n",
    "        transformers.append((\"num\", StandardScaler(with_mean=False), num_cols))\n",
    "    if cat_cols:\n",
    "        transformers.append((\"cat\", ohe, cat_cols))\n",
    "\n",
    "    pre = ColumnTransformer(\n",
    "        transformers=transformers,\n",
    "        remainder=\"drop\",\n",
    "        sparse_threshold=0.3\n",
    "    )\n",
    "\n",
    "    rf = RandomForestRegressor(n_estimators=300, random_state=42, n_jobs=-1)\n",
    "    return Pipeline([(\"pre\", pre), (\"rf\", rf)])\n"
   ]
  },
  {
   "cell_type": "code",
   "execution_count": null,
   "id": "e9e6f2ac-a24f-473d-ba2b-985ccfcfadb4",
   "metadata": {},
   "outputs": [],
   "source": []
  }
 ],
 "metadata": {
  "kernelspec": {
   "display_name": "Python 3.11 (moviepy)",
   "language": "python",
   "name": "py311"
  },
  "language_info": {
   "codemirror_mode": {
    "name": "ipython",
    "version": 3
   },
   "file_extension": ".py",
   "mimetype": "text/x-python",
   "name": "python",
   "nbconvert_exporter": "python",
   "pygments_lexer": "ipython3",
   "version": "3.11.9"
  }
 },
 "nbformat": 4,
 "nbformat_minor": 5
}
